{
  "nbformat": 4,
  "nbformat_minor": 0,
  "metadata": {
    "colab": {
      "name": "Simple Neural Network Exercise.ipynb",
      "provenance": [],
      "collapsed_sections": [],
      "authorship_tag": "ABX9TyP4oPROIfpHPKQ5onq6zeVv",
      "include_colab_link": true
    },
    "kernelspec": {
      "name": "python3",
      "display_name": "Python 3"
    },
    "language_info": {
      "name": "python"
    }
  },
  "cells": [
    {
      "cell_type": "markdown",
      "metadata": {
        "id": "view-in-github",
        "colab_type": "text"
      },
      "source": [
        "<a href=\"https://colab.research.google.com/github/starkjones/Neural-Networks/blob/main/Simple_Neural_Network_Exercise.ipynb\" target=\"_parent\"><img src=\"https://colab.research.google.com/assets/colab-badge.svg\" alt=\"Open In Colab\"/></a>"
      ]
    },
    {
      "cell_type": "markdown",
      "source": [
        "# **Simple Neural Network Exercise**\n",
        "Jonathan Jones\n",
        "\n",
        "22.06.07"
      ],
      "metadata": {
        "id": "N_fDGVhTZFtZ"
      }
    },
    {
      "cell_type": "markdown",
      "source": [
        "## **Data Dictionary**\n",
        "\n",
        "1. Age: age of the patient [years]\n",
        "\n",
        "2. Sex: sex of the patient [M: Male, F: Female]\n",
        "\n",
        "3. ChestPainType: chest pain type [TA: Typical Angina, ATA: Atypical Angina, NAP: \n",
        "Non-Anginal Pain, ASY: Asymptomatic]\n",
        "\n",
        "4. RestingBP: resting blood pressure [mm Hg]\n",
        "\n",
        "5. Cholesterol: serum cholesterol [mm/dl]\n",
        "\n",
        "6. FastingBS: fasting blood sugar [1: if FastingBS > 120 mg/dl, 0: otherwise]\n",
        "\n",
        "7. RestingECG: resting electrocardiogram results [Normal: Normal, ST: having ST-T wave abnormality (T wave inversions and/or ST elevation or depression of > 0.05 mV), LVH: showing probable or definite left ventricular hypertrophy by Estes' criteria]\n",
        "\n",
        "8. MaxHR: maximum heart rate achieved [Numeric value between 60 and 202]\n",
        "\n",
        "9. ExerciseAngina: exercise-induced angina [Y: Yes, N: No]\n",
        "\n",
        "10. Oldpeak: oldpeak = ST [Numeric value measured in depression]\n",
        "\n",
        "11. ST_Slope: the slope of the peak exercise ST segment [Up: upsloping, Flat: flat, Down: downsloping]\n",
        "\n",
        "12. HeartDisease: output class [1: heart disease, 0: Normal]"
      ],
      "metadata": {
        "id": "BTqDMaM4Z1aO"
      }
    },
    {
      "cell_type": "code",
      "execution_count": null,
      "metadata": {
        "colab": {
          "base_uri": "https://localhost:8080/"
        },
        "id": "I5AP4FvmZBWm",
        "outputId": "39ea8eb6-e05c-4ad2-c8ef-351fcdbe4eec"
      },
      "outputs": [
        {
          "output_type": "stream",
          "name": "stdout",
          "text": [
            "Mounted at /content/drive\n"
          ]
        }
      ],
      "source": [
        "from google.colab import drive\n",
        "drive.mount('/content/drive')"
      ]
    },
    {
      "cell_type": "code",
      "source": [
        "# Import Libraries:\n",
        "\n",
        "import numpy as np\n",
        "import pandas as pd\n",
        "import matplotlib.pyplot as plt\n",
        "from sklearn.preprocessing import StandardScaler, OneHotEncoder\n",
        "from sklearn.model_selection import train_test_split\n",
        "from tensorflow.keras import metrics\n",
        "from keras.models import Sequential\n",
        "from keras.layers import Dense"
      ],
      "metadata": {
        "id": "cDlKA-cAb22U"
      },
      "execution_count": null,
      "outputs": []
    },
    {
      "cell_type": "markdown",
      "source": [
        "1. Explore and clean the data if needed"
      ],
      "metadata": {
        "id": "4iVnM2cMaRSA"
      }
    },
    {
      "cell_type": "code",
      "source": [
        "# Load Data:\n",
        "data = '/content/drive/MyDrive/Colab Notebooks/Week 11/heart - heart.csv'\n",
        "\n",
        "df = pd.read_csv(data)\n",
        "\n",
        "df.head()"
      ],
      "metadata": {
        "colab": {
          "base_uri": "https://localhost:8080/",
          "height": 206
        },
        "id": "AKho_THkZrDp",
        "outputId": "9caf2999-e3bb-4f7a-db87-6871ddbcd475"
      },
      "execution_count": null,
      "outputs": [
        {
          "output_type": "execute_result",
          "data": {
            "text/plain": [
              "   Age Sex ChestPainType  RestingBP  Cholesterol  FastingBS RestingECG  MaxHR  \\\n",
              "0   40   M           ATA        140          289          0     Normal    172   \n",
              "1   49   F           NAP        160          180          0     Normal    156   \n",
              "2   37   M           ATA        130          283          0         ST     98   \n",
              "3   48   F           ASY        138          214          0     Normal    108   \n",
              "4   54   M           NAP        150          195          0     Normal    122   \n",
              "\n",
              "  ExerciseAngina  Oldpeak ST_Slope  HeartDisease  \n",
              "0              N      0.0       Up             0  \n",
              "1              N      1.0     Flat             1  \n",
              "2              N      0.0       Up             0  \n",
              "3              Y      1.5     Flat             1  \n",
              "4              N      0.0       Up             0  "
            ],
            "text/html": [
              "\n",
              "  <div id=\"df-7f267bb3-6c8f-4b21-a7fa-49acc8f2a11a\">\n",
              "    <div class=\"colab-df-container\">\n",
              "      <div>\n",
              "<style scoped>\n",
              "    .dataframe tbody tr th:only-of-type {\n",
              "        vertical-align: middle;\n",
              "    }\n",
              "\n",
              "    .dataframe tbody tr th {\n",
              "        vertical-align: top;\n",
              "    }\n",
              "\n",
              "    .dataframe thead th {\n",
              "        text-align: right;\n",
              "    }\n",
              "</style>\n",
              "<table border=\"1\" class=\"dataframe\">\n",
              "  <thead>\n",
              "    <tr style=\"text-align: right;\">\n",
              "      <th></th>\n",
              "      <th>Age</th>\n",
              "      <th>Sex</th>\n",
              "      <th>ChestPainType</th>\n",
              "      <th>RestingBP</th>\n",
              "      <th>Cholesterol</th>\n",
              "      <th>FastingBS</th>\n",
              "      <th>RestingECG</th>\n",
              "      <th>MaxHR</th>\n",
              "      <th>ExerciseAngina</th>\n",
              "      <th>Oldpeak</th>\n",
              "      <th>ST_Slope</th>\n",
              "      <th>HeartDisease</th>\n",
              "    </tr>\n",
              "  </thead>\n",
              "  <tbody>\n",
              "    <tr>\n",
              "      <th>0</th>\n",
              "      <td>40</td>\n",
              "      <td>M</td>\n",
              "      <td>ATA</td>\n",
              "      <td>140</td>\n",
              "      <td>289</td>\n",
              "      <td>0</td>\n",
              "      <td>Normal</td>\n",
              "      <td>172</td>\n",
              "      <td>N</td>\n",
              "      <td>0.0</td>\n",
              "      <td>Up</td>\n",
              "      <td>0</td>\n",
              "    </tr>\n",
              "    <tr>\n",
              "      <th>1</th>\n",
              "      <td>49</td>\n",
              "      <td>F</td>\n",
              "      <td>NAP</td>\n",
              "      <td>160</td>\n",
              "      <td>180</td>\n",
              "      <td>0</td>\n",
              "      <td>Normal</td>\n",
              "      <td>156</td>\n",
              "      <td>N</td>\n",
              "      <td>1.0</td>\n",
              "      <td>Flat</td>\n",
              "      <td>1</td>\n",
              "    </tr>\n",
              "    <tr>\n",
              "      <th>2</th>\n",
              "      <td>37</td>\n",
              "      <td>M</td>\n",
              "      <td>ATA</td>\n",
              "      <td>130</td>\n",
              "      <td>283</td>\n",
              "      <td>0</td>\n",
              "      <td>ST</td>\n",
              "      <td>98</td>\n",
              "      <td>N</td>\n",
              "      <td>0.0</td>\n",
              "      <td>Up</td>\n",
              "      <td>0</td>\n",
              "    </tr>\n",
              "    <tr>\n",
              "      <th>3</th>\n",
              "      <td>48</td>\n",
              "      <td>F</td>\n",
              "      <td>ASY</td>\n",
              "      <td>138</td>\n",
              "      <td>214</td>\n",
              "      <td>0</td>\n",
              "      <td>Normal</td>\n",
              "      <td>108</td>\n",
              "      <td>Y</td>\n",
              "      <td>1.5</td>\n",
              "      <td>Flat</td>\n",
              "      <td>1</td>\n",
              "    </tr>\n",
              "    <tr>\n",
              "      <th>4</th>\n",
              "      <td>54</td>\n",
              "      <td>M</td>\n",
              "      <td>NAP</td>\n",
              "      <td>150</td>\n",
              "      <td>195</td>\n",
              "      <td>0</td>\n",
              "      <td>Normal</td>\n",
              "      <td>122</td>\n",
              "      <td>N</td>\n",
              "      <td>0.0</td>\n",
              "      <td>Up</td>\n",
              "      <td>0</td>\n",
              "    </tr>\n",
              "  </tbody>\n",
              "</table>\n",
              "</div>\n",
              "      <button class=\"colab-df-convert\" onclick=\"convertToInteractive('df-7f267bb3-6c8f-4b21-a7fa-49acc8f2a11a')\"\n",
              "              title=\"Convert this dataframe to an interactive table.\"\n",
              "              style=\"display:none;\">\n",
              "        \n",
              "  <svg xmlns=\"http://www.w3.org/2000/svg\" height=\"24px\"viewBox=\"0 0 24 24\"\n",
              "       width=\"24px\">\n",
              "    <path d=\"M0 0h24v24H0V0z\" fill=\"none\"/>\n",
              "    <path d=\"M18.56 5.44l.94 2.06.94-2.06 2.06-.94-2.06-.94-.94-2.06-.94 2.06-2.06.94zm-11 1L8.5 8.5l.94-2.06 2.06-.94-2.06-.94L8.5 2.5l-.94 2.06-2.06.94zm10 10l.94 2.06.94-2.06 2.06-.94-2.06-.94-.94-2.06-.94 2.06-2.06.94z\"/><path d=\"M17.41 7.96l-1.37-1.37c-.4-.4-.92-.59-1.43-.59-.52 0-1.04.2-1.43.59L10.3 9.45l-7.72 7.72c-.78.78-.78 2.05 0 2.83L4 21.41c.39.39.9.59 1.41.59.51 0 1.02-.2 1.41-.59l7.78-7.78 2.81-2.81c.8-.78.8-2.07 0-2.86zM5.41 20L4 18.59l7.72-7.72 1.47 1.35L5.41 20z\"/>\n",
              "  </svg>\n",
              "      </button>\n",
              "      \n",
              "  <style>\n",
              "    .colab-df-container {\n",
              "      display:flex;\n",
              "      flex-wrap:wrap;\n",
              "      gap: 12px;\n",
              "    }\n",
              "\n",
              "    .colab-df-convert {\n",
              "      background-color: #E8F0FE;\n",
              "      border: none;\n",
              "      border-radius: 50%;\n",
              "      cursor: pointer;\n",
              "      display: none;\n",
              "      fill: #1967D2;\n",
              "      height: 32px;\n",
              "      padding: 0 0 0 0;\n",
              "      width: 32px;\n",
              "    }\n",
              "\n",
              "    .colab-df-convert:hover {\n",
              "      background-color: #E2EBFA;\n",
              "      box-shadow: 0px 1px 2px rgba(60, 64, 67, 0.3), 0px 1px 3px 1px rgba(60, 64, 67, 0.15);\n",
              "      fill: #174EA6;\n",
              "    }\n",
              "\n",
              "    [theme=dark] .colab-df-convert {\n",
              "      background-color: #3B4455;\n",
              "      fill: #D2E3FC;\n",
              "    }\n",
              "\n",
              "    [theme=dark] .colab-df-convert:hover {\n",
              "      background-color: #434B5C;\n",
              "      box-shadow: 0px 1px 3px 1px rgba(0, 0, 0, 0.15);\n",
              "      filter: drop-shadow(0px 1px 2px rgba(0, 0, 0, 0.3));\n",
              "      fill: #FFFFFF;\n",
              "    }\n",
              "  </style>\n",
              "\n",
              "      <script>\n",
              "        const buttonEl =\n",
              "          document.querySelector('#df-7f267bb3-6c8f-4b21-a7fa-49acc8f2a11a button.colab-df-convert');\n",
              "        buttonEl.style.display =\n",
              "          google.colab.kernel.accessAllowed ? 'block' : 'none';\n",
              "\n",
              "        async function convertToInteractive(key) {\n",
              "          const element = document.querySelector('#df-7f267bb3-6c8f-4b21-a7fa-49acc8f2a11a');\n",
              "          const dataTable =\n",
              "            await google.colab.kernel.invokeFunction('convertToInteractive',\n",
              "                                                     [key], {});\n",
              "          if (!dataTable) return;\n",
              "\n",
              "          const docLinkHtml = 'Like what you see? Visit the ' +\n",
              "            '<a target=\"_blank\" href=https://colab.research.google.com/notebooks/data_table.ipynb>data table notebook</a>'\n",
              "            + ' to learn more about interactive tables.';\n",
              "          element.innerHTML = '';\n",
              "          dataTable['output_type'] = 'display_data';\n",
              "          await google.colab.output.renderOutput(dataTable, element);\n",
              "          const docLink = document.createElement('div');\n",
              "          docLink.innerHTML = docLinkHtml;\n",
              "          element.appendChild(docLink);\n",
              "        }\n",
              "      </script>\n",
              "    </div>\n",
              "  </div>\n",
              "  "
            ]
          },
          "metadata": {},
          "execution_count": 44
        }
      ]
    },
    {
      "cell_type": "code",
      "source": [
        "# convert column names to lower case:\n",
        "\n",
        "df.columns = df.columns.str.lower()"
      ],
      "metadata": {
        "id": "nsqGn6bidVhU"
      },
      "execution_count": null,
      "outputs": []
    },
    {
      "cell_type": "code",
      "source": [
        "# Duplicated rows:\n",
        "\n",
        "df.duplicated().sum()"
      ],
      "metadata": {
        "colab": {
          "base_uri": "https://localhost:8080/"
        },
        "id": "77owRUphdolN",
        "outputId": "880f74c3-7154-448d-98f8-1e3366b8d382"
      },
      "execution_count": null,
      "outputs": [
        {
          "output_type": "execute_result",
          "data": {
            "text/plain": [
              "0"
            ]
          },
          "metadata": {},
          "execution_count": 5
        }
      ]
    },
    {
      "cell_type": "code",
      "source": [
        "# Missing values:\n",
        "\n",
        "df.isna().sum()"
      ],
      "metadata": {
        "colab": {
          "base_uri": "https://localhost:8080/"
        },
        "id": "Cc9znWbMdvP2",
        "outputId": "fd2586cb-704d-4237-d45e-c448f8b2503b"
      },
      "execution_count": null,
      "outputs": [
        {
          "output_type": "execute_result",
          "data": {
            "text/plain": [
              "age               0\n",
              "sex               0\n",
              "chestpaintype     0\n",
              "restingbp         0\n",
              "cholesterol       0\n",
              "fastingbs         0\n",
              "restingecg        0\n",
              "maxhr             0\n",
              "exerciseangina    0\n",
              "oldpeak           0\n",
              "st_slope          0\n",
              "heartdisease      0\n",
              "dtype: int64"
            ]
          },
          "metadata": {},
          "execution_count": 6
        }
      ]
    },
    {
      "cell_type": "code",
      "source": [
        "# Datatypes and dictionary conformity: \n",
        "\n",
        "df.info()"
      ],
      "metadata": {
        "colab": {
          "base_uri": "https://localhost:8080/"
        },
        "id": "Zy9M4A-td1SL",
        "outputId": "a152159f-480f-4d48-9336-f8370d722dda"
      },
      "execution_count": null,
      "outputs": [
        {
          "output_type": "stream",
          "name": "stdout",
          "text": [
            "<class 'pandas.core.frame.DataFrame'>\n",
            "RangeIndex: 918 entries, 0 to 917\n",
            "Data columns (total 12 columns):\n",
            " #   Column          Non-Null Count  Dtype  \n",
            "---  ------          --------------  -----  \n",
            " 0   age             918 non-null    int64  \n",
            " 1   sex             918 non-null    object \n",
            " 2   chestpaintype   918 non-null    object \n",
            " 3   restingbp       918 non-null    int64  \n",
            " 4   cholesterol     918 non-null    int64  \n",
            " 5   fastingbs       918 non-null    int64  \n",
            " 6   restingecg      918 non-null    object \n",
            " 7   maxhr           918 non-null    int64  \n",
            " 8   exerciseangina  918 non-null    object \n",
            " 9   oldpeak         918 non-null    float64\n",
            " 10  st_slope        918 non-null    object \n",
            " 11  heartdisease    918 non-null    int64  \n",
            "dtypes: float64(1), int64(6), object(5)\n",
            "memory usage: 86.2+ KB\n"
          ]
        }
      ]
    },
    {
      "cell_type": "code",
      "source": [
        "# Check numerical data for inconsistencies:\n",
        "\n",
        "df.describe().round(2)"
      ],
      "metadata": {
        "colab": {
          "base_uri": "https://localhost:8080/",
          "height": 300
        },
        "id": "YBYGs_viip0i",
        "outputId": "dfad7629-19b5-4746-dba4-a6d9bbf282d2"
      },
      "execution_count": null,
      "outputs": [
        {
          "output_type": "execute_result",
          "data": {
            "text/plain": [
              "          age  restingbp  cholesterol  fastingbs   maxhr  oldpeak  \\\n",
              "count  918.00     918.00       918.00     918.00  918.00   918.00   \n",
              "mean    53.51     132.40       198.80       0.23  136.81     0.89   \n",
              "std      9.43      18.51       109.38       0.42   25.46     1.07   \n",
              "min     28.00       0.00         0.00       0.00   60.00    -2.60   \n",
              "25%     47.00     120.00       173.25       0.00  120.00     0.00   \n",
              "50%     54.00     130.00       223.00       0.00  138.00     0.60   \n",
              "75%     60.00     140.00       267.00       0.00  156.00     1.50   \n",
              "max     77.00     200.00       603.00       1.00  202.00     6.20   \n",
              "\n",
              "       heartdisease  \n",
              "count        918.00  \n",
              "mean           0.55  \n",
              "std            0.50  \n",
              "min            0.00  \n",
              "25%            0.00  \n",
              "50%            1.00  \n",
              "75%            1.00  \n",
              "max            1.00  "
            ],
            "text/html": [
              "\n",
              "  <div id=\"df-6597e2fa-8e32-4a65-b53c-9e28a24d8fe6\">\n",
              "    <div class=\"colab-df-container\">\n",
              "      <div>\n",
              "<style scoped>\n",
              "    .dataframe tbody tr th:only-of-type {\n",
              "        vertical-align: middle;\n",
              "    }\n",
              "\n",
              "    .dataframe tbody tr th {\n",
              "        vertical-align: top;\n",
              "    }\n",
              "\n",
              "    .dataframe thead th {\n",
              "        text-align: right;\n",
              "    }\n",
              "</style>\n",
              "<table border=\"1\" class=\"dataframe\">\n",
              "  <thead>\n",
              "    <tr style=\"text-align: right;\">\n",
              "      <th></th>\n",
              "      <th>age</th>\n",
              "      <th>restingbp</th>\n",
              "      <th>cholesterol</th>\n",
              "      <th>fastingbs</th>\n",
              "      <th>maxhr</th>\n",
              "      <th>oldpeak</th>\n",
              "      <th>heartdisease</th>\n",
              "    </tr>\n",
              "  </thead>\n",
              "  <tbody>\n",
              "    <tr>\n",
              "      <th>count</th>\n",
              "      <td>918.00</td>\n",
              "      <td>918.00</td>\n",
              "      <td>918.00</td>\n",
              "      <td>918.00</td>\n",
              "      <td>918.00</td>\n",
              "      <td>918.00</td>\n",
              "      <td>918.00</td>\n",
              "    </tr>\n",
              "    <tr>\n",
              "      <th>mean</th>\n",
              "      <td>53.51</td>\n",
              "      <td>132.40</td>\n",
              "      <td>198.80</td>\n",
              "      <td>0.23</td>\n",
              "      <td>136.81</td>\n",
              "      <td>0.89</td>\n",
              "      <td>0.55</td>\n",
              "    </tr>\n",
              "    <tr>\n",
              "      <th>std</th>\n",
              "      <td>9.43</td>\n",
              "      <td>18.51</td>\n",
              "      <td>109.38</td>\n",
              "      <td>0.42</td>\n",
              "      <td>25.46</td>\n",
              "      <td>1.07</td>\n",
              "      <td>0.50</td>\n",
              "    </tr>\n",
              "    <tr>\n",
              "      <th>min</th>\n",
              "      <td>28.00</td>\n",
              "      <td>0.00</td>\n",
              "      <td>0.00</td>\n",
              "      <td>0.00</td>\n",
              "      <td>60.00</td>\n",
              "      <td>-2.60</td>\n",
              "      <td>0.00</td>\n",
              "    </tr>\n",
              "    <tr>\n",
              "      <th>25%</th>\n",
              "      <td>47.00</td>\n",
              "      <td>120.00</td>\n",
              "      <td>173.25</td>\n",
              "      <td>0.00</td>\n",
              "      <td>120.00</td>\n",
              "      <td>0.00</td>\n",
              "      <td>0.00</td>\n",
              "    </tr>\n",
              "    <tr>\n",
              "      <th>50%</th>\n",
              "      <td>54.00</td>\n",
              "      <td>130.00</td>\n",
              "      <td>223.00</td>\n",
              "      <td>0.00</td>\n",
              "      <td>138.00</td>\n",
              "      <td>0.60</td>\n",
              "      <td>1.00</td>\n",
              "    </tr>\n",
              "    <tr>\n",
              "      <th>75%</th>\n",
              "      <td>60.00</td>\n",
              "      <td>140.00</td>\n",
              "      <td>267.00</td>\n",
              "      <td>0.00</td>\n",
              "      <td>156.00</td>\n",
              "      <td>1.50</td>\n",
              "      <td>1.00</td>\n",
              "    </tr>\n",
              "    <tr>\n",
              "      <th>max</th>\n",
              "      <td>77.00</td>\n",
              "      <td>200.00</td>\n",
              "      <td>603.00</td>\n",
              "      <td>1.00</td>\n",
              "      <td>202.00</td>\n",
              "      <td>6.20</td>\n",
              "      <td>1.00</td>\n",
              "    </tr>\n",
              "  </tbody>\n",
              "</table>\n",
              "</div>\n",
              "      <button class=\"colab-df-convert\" onclick=\"convertToInteractive('df-6597e2fa-8e32-4a65-b53c-9e28a24d8fe6')\"\n",
              "              title=\"Convert this dataframe to an interactive table.\"\n",
              "              style=\"display:none;\">\n",
              "        \n",
              "  <svg xmlns=\"http://www.w3.org/2000/svg\" height=\"24px\"viewBox=\"0 0 24 24\"\n",
              "       width=\"24px\">\n",
              "    <path d=\"M0 0h24v24H0V0z\" fill=\"none\"/>\n",
              "    <path d=\"M18.56 5.44l.94 2.06.94-2.06 2.06-.94-2.06-.94-.94-2.06-.94 2.06-2.06.94zm-11 1L8.5 8.5l.94-2.06 2.06-.94-2.06-.94L8.5 2.5l-.94 2.06-2.06.94zm10 10l.94 2.06.94-2.06 2.06-.94-2.06-.94-.94-2.06-.94 2.06-2.06.94z\"/><path d=\"M17.41 7.96l-1.37-1.37c-.4-.4-.92-.59-1.43-.59-.52 0-1.04.2-1.43.59L10.3 9.45l-7.72 7.72c-.78.78-.78 2.05 0 2.83L4 21.41c.39.39.9.59 1.41.59.51 0 1.02-.2 1.41-.59l7.78-7.78 2.81-2.81c.8-.78.8-2.07 0-2.86zM5.41 20L4 18.59l7.72-7.72 1.47 1.35L5.41 20z\"/>\n",
              "  </svg>\n",
              "      </button>\n",
              "      \n",
              "  <style>\n",
              "    .colab-df-container {\n",
              "      display:flex;\n",
              "      flex-wrap:wrap;\n",
              "      gap: 12px;\n",
              "    }\n",
              "\n",
              "    .colab-df-convert {\n",
              "      background-color: #E8F0FE;\n",
              "      border: none;\n",
              "      border-radius: 50%;\n",
              "      cursor: pointer;\n",
              "      display: none;\n",
              "      fill: #1967D2;\n",
              "      height: 32px;\n",
              "      padding: 0 0 0 0;\n",
              "      width: 32px;\n",
              "    }\n",
              "\n",
              "    .colab-df-convert:hover {\n",
              "      background-color: #E2EBFA;\n",
              "      box-shadow: 0px 1px 2px rgba(60, 64, 67, 0.3), 0px 1px 3px 1px rgba(60, 64, 67, 0.15);\n",
              "      fill: #174EA6;\n",
              "    }\n",
              "\n",
              "    [theme=dark] .colab-df-convert {\n",
              "      background-color: #3B4455;\n",
              "      fill: #D2E3FC;\n",
              "    }\n",
              "\n",
              "    [theme=dark] .colab-df-convert:hover {\n",
              "      background-color: #434B5C;\n",
              "      box-shadow: 0px 1px 3px 1px rgba(0, 0, 0, 0.15);\n",
              "      filter: drop-shadow(0px 1px 2px rgba(0, 0, 0, 0.3));\n",
              "      fill: #FFFFFF;\n",
              "    }\n",
              "  </style>\n",
              "\n",
              "      <script>\n",
              "        const buttonEl =\n",
              "          document.querySelector('#df-6597e2fa-8e32-4a65-b53c-9e28a24d8fe6 button.colab-df-convert');\n",
              "        buttonEl.style.display =\n",
              "          google.colab.kernel.accessAllowed ? 'block' : 'none';\n",
              "\n",
              "        async function convertToInteractive(key) {\n",
              "          const element = document.querySelector('#df-6597e2fa-8e32-4a65-b53c-9e28a24d8fe6');\n",
              "          const dataTable =\n",
              "            await google.colab.kernel.invokeFunction('convertToInteractive',\n",
              "                                                     [key], {});\n",
              "          if (!dataTable) return;\n",
              "\n",
              "          const docLinkHtml = 'Like what you see? Visit the ' +\n",
              "            '<a target=\"_blank\" href=https://colab.research.google.com/notebooks/data_table.ipynb>data table notebook</a>'\n",
              "            + ' to learn more about interactive tables.';\n",
              "          element.innerHTML = '';\n",
              "          dataTable['output_type'] = 'display_data';\n",
              "          await google.colab.output.renderOutput(dataTable, element);\n",
              "          const docLink = document.createElement('div');\n",
              "          docLink.innerHTML = docLinkHtml;\n",
              "          element.appendChild(docLink);\n",
              "        }\n",
              "      </script>\n",
              "    </div>\n",
              "  </div>\n",
              "  "
            ]
          },
          "metadata": {},
          "execution_count": 8
        }
      ]
    },
    {
      "cell_type": "code",
      "source": [
        "# Removing rows with no values:\n",
        "\n",
        "rbp = df['restingbp'] == 0\n",
        "chol = df['cholesterol'] == 0\n",
        "\n",
        "dfc = df[~(rbp | chol)]"
      ],
      "metadata": {
        "id": "LkKbiV5ZkqDh"
      },
      "execution_count": null,
      "outputs": []
    },
    {
      "cell_type": "code",
      "source": [
        "dfc.describe().round(2)"
      ],
      "metadata": {
        "colab": {
          "base_uri": "https://localhost:8080/",
          "height": 300
        },
        "id": "jAorezKXmvT8",
        "outputId": "bbd16ae1-0ed2-4ee3-a3ad-faf4ccacc34d"
      },
      "execution_count": null,
      "outputs": [
        {
          "output_type": "execute_result",
          "data": {
            "text/plain": [
              "          age  restingbp  cholesterol  fastingbs   maxhr  oldpeak  \\\n",
              "count  746.00     746.00       746.00     746.00  746.00   746.00   \n",
              "mean    52.88     133.02       244.64       0.17  140.23     0.90   \n",
              "std      9.51      17.28        59.15       0.37   24.52     1.07   \n",
              "min     28.00      92.00        85.00       0.00   69.00    -0.10   \n",
              "25%     46.00     120.00       207.25       0.00  122.00     0.00   \n",
              "50%     54.00     130.00       237.00       0.00  140.00     0.50   \n",
              "75%     59.00     140.00       275.00       0.00  160.00     1.50   \n",
              "max     77.00     200.00       603.00       1.00  202.00     6.20   \n",
              "\n",
              "       heartdisease  \n",
              "count        746.00  \n",
              "mean           0.48  \n",
              "std            0.50  \n",
              "min            0.00  \n",
              "25%            0.00  \n",
              "50%            0.00  \n",
              "75%            1.00  \n",
              "max            1.00  "
            ],
            "text/html": [
              "\n",
              "  <div id=\"df-b39e4980-3af7-4567-a05b-30e62af27eca\">\n",
              "    <div class=\"colab-df-container\">\n",
              "      <div>\n",
              "<style scoped>\n",
              "    .dataframe tbody tr th:only-of-type {\n",
              "        vertical-align: middle;\n",
              "    }\n",
              "\n",
              "    .dataframe tbody tr th {\n",
              "        vertical-align: top;\n",
              "    }\n",
              "\n",
              "    .dataframe thead th {\n",
              "        text-align: right;\n",
              "    }\n",
              "</style>\n",
              "<table border=\"1\" class=\"dataframe\">\n",
              "  <thead>\n",
              "    <tr style=\"text-align: right;\">\n",
              "      <th></th>\n",
              "      <th>age</th>\n",
              "      <th>restingbp</th>\n",
              "      <th>cholesterol</th>\n",
              "      <th>fastingbs</th>\n",
              "      <th>maxhr</th>\n",
              "      <th>oldpeak</th>\n",
              "      <th>heartdisease</th>\n",
              "    </tr>\n",
              "  </thead>\n",
              "  <tbody>\n",
              "    <tr>\n",
              "      <th>count</th>\n",
              "      <td>746.00</td>\n",
              "      <td>746.00</td>\n",
              "      <td>746.00</td>\n",
              "      <td>746.00</td>\n",
              "      <td>746.00</td>\n",
              "      <td>746.00</td>\n",
              "      <td>746.00</td>\n",
              "    </tr>\n",
              "    <tr>\n",
              "      <th>mean</th>\n",
              "      <td>52.88</td>\n",
              "      <td>133.02</td>\n",
              "      <td>244.64</td>\n",
              "      <td>0.17</td>\n",
              "      <td>140.23</td>\n",
              "      <td>0.90</td>\n",
              "      <td>0.48</td>\n",
              "    </tr>\n",
              "    <tr>\n",
              "      <th>std</th>\n",
              "      <td>9.51</td>\n",
              "      <td>17.28</td>\n",
              "      <td>59.15</td>\n",
              "      <td>0.37</td>\n",
              "      <td>24.52</td>\n",
              "      <td>1.07</td>\n",
              "      <td>0.50</td>\n",
              "    </tr>\n",
              "    <tr>\n",
              "      <th>min</th>\n",
              "      <td>28.00</td>\n",
              "      <td>92.00</td>\n",
              "      <td>85.00</td>\n",
              "      <td>0.00</td>\n",
              "      <td>69.00</td>\n",
              "      <td>-0.10</td>\n",
              "      <td>0.00</td>\n",
              "    </tr>\n",
              "    <tr>\n",
              "      <th>25%</th>\n",
              "      <td>46.00</td>\n",
              "      <td>120.00</td>\n",
              "      <td>207.25</td>\n",
              "      <td>0.00</td>\n",
              "      <td>122.00</td>\n",
              "      <td>0.00</td>\n",
              "      <td>0.00</td>\n",
              "    </tr>\n",
              "    <tr>\n",
              "      <th>50%</th>\n",
              "      <td>54.00</td>\n",
              "      <td>130.00</td>\n",
              "      <td>237.00</td>\n",
              "      <td>0.00</td>\n",
              "      <td>140.00</td>\n",
              "      <td>0.50</td>\n",
              "      <td>0.00</td>\n",
              "    </tr>\n",
              "    <tr>\n",
              "      <th>75%</th>\n",
              "      <td>59.00</td>\n",
              "      <td>140.00</td>\n",
              "      <td>275.00</td>\n",
              "      <td>0.00</td>\n",
              "      <td>160.00</td>\n",
              "      <td>1.50</td>\n",
              "      <td>1.00</td>\n",
              "    </tr>\n",
              "    <tr>\n",
              "      <th>max</th>\n",
              "      <td>77.00</td>\n",
              "      <td>200.00</td>\n",
              "      <td>603.00</td>\n",
              "      <td>1.00</td>\n",
              "      <td>202.00</td>\n",
              "      <td>6.20</td>\n",
              "      <td>1.00</td>\n",
              "    </tr>\n",
              "  </tbody>\n",
              "</table>\n",
              "</div>\n",
              "      <button class=\"colab-df-convert\" onclick=\"convertToInteractive('df-b39e4980-3af7-4567-a05b-30e62af27eca')\"\n",
              "              title=\"Convert this dataframe to an interactive table.\"\n",
              "              style=\"display:none;\">\n",
              "        \n",
              "  <svg xmlns=\"http://www.w3.org/2000/svg\" height=\"24px\"viewBox=\"0 0 24 24\"\n",
              "       width=\"24px\">\n",
              "    <path d=\"M0 0h24v24H0V0z\" fill=\"none\"/>\n",
              "    <path d=\"M18.56 5.44l.94 2.06.94-2.06 2.06-.94-2.06-.94-.94-2.06-.94 2.06-2.06.94zm-11 1L8.5 8.5l.94-2.06 2.06-.94-2.06-.94L8.5 2.5l-.94 2.06-2.06.94zm10 10l.94 2.06.94-2.06 2.06-.94-2.06-.94-.94-2.06-.94 2.06-2.06.94z\"/><path d=\"M17.41 7.96l-1.37-1.37c-.4-.4-.92-.59-1.43-.59-.52 0-1.04.2-1.43.59L10.3 9.45l-7.72 7.72c-.78.78-.78 2.05 0 2.83L4 21.41c.39.39.9.59 1.41.59.51 0 1.02-.2 1.41-.59l7.78-7.78 2.81-2.81c.8-.78.8-2.07 0-2.86zM5.41 20L4 18.59l7.72-7.72 1.47 1.35L5.41 20z\"/>\n",
              "  </svg>\n",
              "      </button>\n",
              "      \n",
              "  <style>\n",
              "    .colab-df-container {\n",
              "      display:flex;\n",
              "      flex-wrap:wrap;\n",
              "      gap: 12px;\n",
              "    }\n",
              "\n",
              "    .colab-df-convert {\n",
              "      background-color: #E8F0FE;\n",
              "      border: none;\n",
              "      border-radius: 50%;\n",
              "      cursor: pointer;\n",
              "      display: none;\n",
              "      fill: #1967D2;\n",
              "      height: 32px;\n",
              "      padding: 0 0 0 0;\n",
              "      width: 32px;\n",
              "    }\n",
              "\n",
              "    .colab-df-convert:hover {\n",
              "      background-color: #E2EBFA;\n",
              "      box-shadow: 0px 1px 2px rgba(60, 64, 67, 0.3), 0px 1px 3px 1px rgba(60, 64, 67, 0.15);\n",
              "      fill: #174EA6;\n",
              "    }\n",
              "\n",
              "    [theme=dark] .colab-df-convert {\n",
              "      background-color: #3B4455;\n",
              "      fill: #D2E3FC;\n",
              "    }\n",
              "\n",
              "    [theme=dark] .colab-df-convert:hover {\n",
              "      background-color: #434B5C;\n",
              "      box-shadow: 0px 1px 3px 1px rgba(0, 0, 0, 0.15);\n",
              "      filter: drop-shadow(0px 1px 2px rgba(0, 0, 0, 0.3));\n",
              "      fill: #FFFFFF;\n",
              "    }\n",
              "  </style>\n",
              "\n",
              "      <script>\n",
              "        const buttonEl =\n",
              "          document.querySelector('#df-b39e4980-3af7-4567-a05b-30e62af27eca button.colab-df-convert');\n",
              "        buttonEl.style.display =\n",
              "          google.colab.kernel.accessAllowed ? 'block' : 'none';\n",
              "\n",
              "        async function convertToInteractive(key) {\n",
              "          const element = document.querySelector('#df-b39e4980-3af7-4567-a05b-30e62af27eca');\n",
              "          const dataTable =\n",
              "            await google.colab.kernel.invokeFunction('convertToInteractive',\n",
              "                                                     [key], {});\n",
              "          if (!dataTable) return;\n",
              "\n",
              "          const docLinkHtml = 'Like what you see? Visit the ' +\n",
              "            '<a target=\"_blank\" href=https://colab.research.google.com/notebooks/data_table.ipynb>data table notebook</a>'\n",
              "            + ' to learn more about interactive tables.';\n",
              "          element.innerHTML = '';\n",
              "          dataTable['output_type'] = 'display_data';\n",
              "          await google.colab.output.renderOutput(dataTable, element);\n",
              "          const docLink = document.createElement('div');\n",
              "          docLink.innerHTML = docLinkHtml;\n",
              "          element.appendChild(docLink);\n",
              "        }\n",
              "      </script>\n",
              "    </div>\n",
              "  </div>\n",
              "  "
            ]
          },
          "metadata": {},
          "execution_count": 10
        }
      ]
    },
    {
      "cell_type": "markdown",
      "source": [
        "2. Perform a train-test split on your data"
      ],
      "metadata": {
        "id": "9MOFp0yBaVL_"
      }
    },
    {
      "cell_type": "code",
      "source": [
        "# Feature selection:\n",
        "X = dfc.drop(columns = 'heartdisease')\n",
        "\n",
        "# Target:\n",
        "y = dfc['heartdisease']\n",
        "\n",
        "# Train test split: \n",
        "\n",
        "X_train, X_test, y_train, y_test = train_test_split(X, y, random_state = 42, stratify = y)"
      ],
      "metadata": {
        "id": "dG2w_BCyaYVf"
      },
      "execution_count": null,
      "outputs": []
    },
    {
      "cell_type": "markdown",
      "source": [
        "3. Use a column transformer to scale the numeric features and one-hot encode the categorical features."
      ],
      "metadata": {
        "id": "Z2RQ2s7iaZnK"
      }
    },
    {
      "cell_type": "code",
      "source": [
        "# Scaler:\n",
        "scaler = StandardScaler()\n",
        "\n",
        "# One Hot Encoder:\n",
        "OHE = OneHotEncoder(sparse = False, handle_unknown= 'ignore')"
      ],
      "metadata": {
        "id": "l8Zcsz1Eadsd"
      },
      "execution_count": null,
      "outputs": []
    },
    {
      "cell_type": "code",
      "source": [
        "from sklearn.pipeline import make_pipeline\n",
        "from pandas.core.arrays import categorical\n",
        "from sklearn.compose import make_column_selector, make_column_transformer\n",
        "\n",
        "# Column selection / separation by data type:\n",
        "\n",
        "cat = make_column_selector(dtype_include= 'object')\n",
        "\n",
        "categorical_columns = ['sex', 'chestpaintype', 'restingecg', 'exerciseangina', 'st_slope']\n",
        "numeric_columns = X_train.columns.drop(categorical_columns)\n",
        "\n",
        "# Preprocessing tuples:\n",
        "\n",
        "categorical_tuple = (OHE, categorical_columns)\n",
        "numeric_tuple = (scaler, numeric_columns)\n",
        "\n",
        "# Column transformer:\n",
        "\n",
        "preprocessor = make_column_transformer(numeric_tuple, categorical_tuple, remainder= 'passthrough')\n",
        "\n",
        "# Data processing:\n",
        "\n",
        "preprocessor.fit(X_train, y_train)\n",
        "\n",
        "X_train_processed = preprocessor.transform(X_train)\n",
        "X_test_processed = preprocessor.transform(X_test)\n"
      ],
      "metadata": {
        "id": "7A8em-shknNH"
      },
      "execution_count": null,
      "outputs": []
    },
    {
      "cell_type": "markdown",
      "source": [
        "4. Define your base sequential model"
      ],
      "metadata": {
        "id": "ZTXVp_9uaeFN"
      }
    },
    {
      "cell_type": "code",
      "source": [
        "inputshape = X_train_processed.shape[1]\n",
        "inputshape\n",
        "\n",
        "# Model instantiation:\n",
        "sm = Sequential()"
      ],
      "metadata": {
        "id": "hfTi4GCFahQr"
      },
      "execution_count": null,
      "outputs": []
    },
    {
      "cell_type": "markdown",
      "source": [
        "5. Include the number of features of each sample in your input layer"
      ],
      "metadata": {
        "id": "mCmvcf2sah4r"
      }
    },
    {
      "cell_type": "code",
      "source": [
        "# First hidden layer: \n",
        "sm.add(Dense(11, activation = 'relu', input_dim = inputshape))\n",
        "\n",
        "# Second:\n",
        "sm.add(Dense(6, activation = 'relu'))"
      ],
      "metadata": {
        "id": "LY7wevEPamm_"
      },
      "execution_count": null,
      "outputs": []
    },
    {
      "cell_type": "markdown",
      "source": [
        "6. Use the correct activation function and the correct number of neurons for your output layer"
      ],
      "metadata": {
        "id": "EXilIiqFam_9"
      }
    },
    {
      "cell_type": "code",
      "source": [
        "# Output layer:\n",
        "sm.add(Dense(1, activation = 'sigmoid'))"
      ],
      "metadata": {
        "id": "wxmHnaDWarJf"
      },
      "execution_count": null,
      "outputs": []
    },
    {
      "cell_type": "code",
      "source": [
        "# Network Summary:\n",
        "\n",
        "sm.summary()"
      ],
      "metadata": {
        "colab": {
          "base_uri": "https://localhost:8080/"
        },
        "id": "blXS8q1n2rBZ",
        "outputId": "9a8babc8-e854-488f-a682-555a662817f3"
      },
      "execution_count": null,
      "outputs": [
        {
          "output_type": "stream",
          "name": "stdout",
          "text": [
            "Model: \"sequential\"\n",
            "_________________________________________________________________\n",
            " Layer (type)                Output Shape              Param #   \n",
            "=================================================================\n",
            " dense (Dense)               (None, 11)                231       \n",
            "                                                                 \n",
            " dense_1 (Dense)             (None, 6)                 72        \n",
            "                                                                 \n",
            " dense_2 (Dense)             (None, 1)                 7         \n",
            "                                                                 \n",
            "=================================================================\n",
            "Total params: 310\n",
            "Trainable params: 310\n",
            "Non-trainable params: 0\n",
            "_________________________________________________________________\n"
          ]
        }
      ]
    },
    {
      "cell_type": "code",
      "source": [
        "# visualize_nn(sm, description=True, figsize=(10,8))"
      ],
      "metadata": {
        "id": "m-ZLj_Ag9tzf"
      },
      "execution_count": null,
      "outputs": []
    },
    {
      "cell_type": "markdown",
      "source": [
        "7. Compile your model with the correct loss function and an optimizer (‘adam’ is a fine choice)"
      ],
      "metadata": {
        "id": "j3AX-izyas_X"
      }
    },
    {
      "cell_type": "code",
      "source": [
        "# Accuracy used as evaluation metric:\n",
        "\n",
        "sm.compile(optimizer = 'adam', loss = 'binary_crossentropy', metrics = ['accuracy'])"
      ],
      "metadata": {
        "id": "6kiHp6y4axYY"
      },
      "execution_count": null,
      "outputs": []
    },
    {
      "cell_type": "code",
      "source": [
        "from sklearn.metrics import accuracy_score, classification_report, confusion_matrix, ConfusionMatrixDisplay"
      ],
      "metadata": {
        "id": "J3w2h4QmbEuK"
      },
      "execution_count": null,
      "outputs": []
    },
    {
      "cell_type": "code",
      "source": [
        "# Learning history plotting function:\n",
        "\n",
        "def plot_history(history):\n",
        "  \"\"\"Plots the metrics of a model's learning progression or history\"\"\"\n",
        "\n",
        "  metrics = history.history.keys()\n",
        "\n",
        "  for metric in metrics:\n",
        "    if not 'val' in metric:\n",
        "      plt.plot(history.history[f'{metric}'], label = f'{metric}')\n",
        "      if f'val_{metric}' in metrics:\n",
        "        plt.plot(history.history[f'val_{metric}'], label = f'val_{metric}')\n",
        "        plt.title(f'{metric}')\n",
        "        plt.show()"
      ],
      "metadata": {
        "id": "XDNB0Usm2cYw"
      },
      "execution_count": null,
      "outputs": []
    },
    {
      "cell_type": "code",
      "source": [
        "# Model fit:\n",
        "\n",
        "history = sm.fit(X_train_processed, y_train, \n",
        "                 validation_data = (X_test_processed, y_test),\n",
        "                 epochs = 100,\n",
        "                 verbose = 0)"
      ],
      "metadata": {
        "id": "ugACoo_TvPpc"
      },
      "execution_count": null,
      "outputs": []
    },
    {
      "cell_type": "markdown",
      "source": [
        "8. Plot your model’s training history."
      ],
      "metadata": {
        "id": "T2O_BGNTazLi"
      }
    },
    {
      "cell_type": "code",
      "source": [
        "plot_history(history)"
      ],
      "metadata": {
        "colab": {
          "base_uri": "https://localhost:8080/",
          "height": 545
        },
        "id": "psP7WcX-6clG",
        "outputId": "333116be-9abd-4485-93b5-faec95f4051e"
      },
      "execution_count": null,
      "outputs": [
        {
          "output_type": "display_data",
          "data": {
            "text/plain": [
              "<Figure size 432x288 with 1 Axes>"
            ],
            "image/png": "[encoded data removed]"
          },
          "metadata": {
            "needs_background": "light"
          }
        },
        {
          "output_type": "display_data",
          "data": {
            "text/plain": [
              "<Figure size 432x288 with 1 Axes>"
            ],
            "image/png": "[encoded data removed]"
          },
          "metadata": {
            "needs_background": "light"
          }
        }
      ]
    },
    {
      "cell_type": "markdown",
      "source": [
        "9. Evaluate your models with appropriate metrics."
      ],
      "metadata": {
        "id": "Fbci4-jZa_ad"
      }
    },
    {
      "cell_type": "code",
      "source": [
        "# Checking class balance:\n",
        "\n",
        "y_train.value_counts(normalize = True)"
      ],
      "metadata": {
        "colab": {
          "base_uri": "https://localhost:8080/"
        },
        "id": "N7AecmlX_CGd",
        "outputId": "37bd7258-f75c-4562-e259-62d321bd94a3"
      },
      "execution_count": null,
      "outputs": [
        {
          "output_type": "execute_result",
          "data": {
            "text/plain": [
              "0    0.522361\n",
              "1    0.477639\n",
              "Name: heartdisease, dtype: float64"
            ]
          },
          "metadata": {},
          "execution_count": 24
        }
      ]
    },
    {
      "cell_type": "code",
      "source": [
        "import seaborn as sns\n",
        "from seaborn import heatmap\n",
        "from sklearn.metrics import classification_report,confusion_matrix\n",
        "\n",
        "# Model predictions:\n",
        "\n",
        "test_pred = np.rint(sm.predict(X_test_processed))\n",
        "\n",
        "# Classification Report\n",
        "\n",
        "print(classification_report(y_test, test_pred))\n",
        "\n",
        "# Confusion Matrix:\n",
        "\n",
        "labels = ['Normal', 'Heart Disease']\n",
        "\n",
        "cm = confusion_matrix(y_test, test_pred)\n",
        "\n",
        "fig, axes = plt.subplots(1, 1, figsize=(6,6), dpi=100);\n",
        "sns.heatmap(cm, cmap='mako', ax=axes,\n",
        "            xticklabels= labels, \n",
        "            yticklabels = labels , \n",
        "            annot=True);\n",
        "axes.set_title('Test Model I Confusion Matrix\\n');"
      ],
      "metadata": {
        "colab": {
          "base_uri": "https://localhost:8080/",
          "height": 712
        },
        "id": "oDxn8uOk8RnE",
        "outputId": "a5b42feb-41c1-498b-a78f-8ae684e50fa7"
      },
      "execution_count": null,
      "outputs": [
        {
          "output_type": "stream",
          "name": "stdout",
          "text": [
            "              precision    recall  f1-score   support\n",
            "\n",
            "           0       0.88      0.84      0.86        98\n",
            "           1       0.83      0.88      0.85        89\n",
            "\n",
            "    accuracy                           0.86       187\n",
            "   macro avg       0.86      0.86      0.86       187\n",
            "weighted avg       0.86      0.86      0.86       187\n",
            "\n"
          ]
        },
        {
          "output_type": "display_data",
          "data": {
            "text/plain": [
              "<Figure size 600x600 with 2 Axes>"
            ],
            "image/png": "[encoded data removed]"
          },
          "metadata": {
            "needs_background": "light"
          }
        }
      ]
    },
    {
      "cell_type": "markdown",
      "source": [
        "##**Model I Results:**\n",
        "\n",
        "True Positives: 82\n",
        "\n",
        "True Negatives: 78\n",
        "\n",
        "False Positives: 16\n",
        "\n",
        "False Negatives: 11"
      ],
      "metadata": {
        "id": "-smWSFzDiS9L"
      }
    },
    {
      "cell_type": "markdown",
      "source": [
        "After you’ve created, fit, and evaluated your first model, try 2 more versions of it with different numbers of layers and neurons to see if you can create a model that scores better on the testing data."
      ],
      "metadata": {
        "id": "D2Dpe3jubG9-"
      }
    },
    {
      "cell_type": "code",
      "source": [
        "# Version II: \n",
        "\n",
        "inputshape = X_train_processed.shape[1]\n",
        "inputshape\n",
        "\n",
        "# Model instantiation:\n",
        "sm2 = Sequential()\n",
        "\n",
        "# First hidden layer: \n",
        "sm2.add(Dense(11, activation = 'relu', input_dim = inputshape))\n",
        "\n",
        "# Second:\n",
        "sm2.add(Dense(9, activation = 'relu'))\n",
        "\n",
        "# Third:\n",
        "sm2.add(Dense(6, activation = 'relu'))\n",
        "\n",
        "# Output layer:\n",
        "sm2.add(Dense(1, activation = 'sigmoid'))\n",
        "\n",
        "# Network Summary:\n",
        "sm2.summary()\n",
        "\n",
        "# Accuracy used as evaluation metric:\n",
        "sm2.compile(optimizer = 'adam', loss = 'binary_crossentropy', metrics = ['accuracy'])"
      ],
      "metadata": {
        "colab": {
          "base_uri": "https://localhost:8080/"
        },
        "id": "dA3VPICCVj53",
        "outputId": "a304c2a9-b191-420a-b12d-91e1b054f64e"
      },
      "execution_count": null,
      "outputs": [
        {
          "output_type": "stream",
          "name": "stdout",
          "text": [
            "Model: \"sequential_2\"\n",
            "_________________________________________________________________\n",
            " Layer (type)                Output Shape              Param #   \n",
            "=================================================================\n",
            " dense_6 (Dense)             (None, 11)                231       \n",
            "                                                                 \n",
            " dense_7 (Dense)             (None, 9)                 108       \n",
            "                                                                 \n",
            " dense_8 (Dense)             (None, 6)                 60        \n",
            "                                                                 \n",
            " dense_9 (Dense)             (None, 1)                 7         \n",
            "                                                                 \n",
            "=================================================================\n",
            "Total params: 406\n",
            "Trainable params: 406\n",
            "Non-trainable params: 0\n",
            "_________________________________________________________________\n"
          ]
        }
      ]
    },
    {
      "cell_type": "code",
      "source": [
        "# Second Model fit:\n",
        "\n",
        "history2 = sm2.fit(X_train_processed, y_train, \n",
        "                 validation_data = (X_test_processed, y_test),\n",
        "                 epochs = 120,\n",
        "                 verbose = 0)"
      ],
      "metadata": {
        "id": "zm9yzlBBYlUA"
      },
      "execution_count": null,
      "outputs": []
    },
    {
      "cell_type": "code",
      "source": [
        "# Plot history for model 2:\n",
        "\n",
        "plot_history(history2)"
      ],
      "metadata": {
        "colab": {
          "base_uri": "https://localhost:8080/",
          "height": 545
        },
        "id": "HKowetmBYv2A",
        "outputId": "cda4d901-7326-4bdb-dbbb-28c9bc2fd8f1"
      },
      "execution_count": null,
      "outputs": [
        {
          "output_type": "display_data",
          "data": {
            "text/plain": [
              "<Figure size 432x288 with 1 Axes>"
            ],
            "image/png": "[encoded data removed]"
          },
          "metadata": {
            "needs_background": "light"
          }
        },
        {
          "output_type": "display_data",
          "data": {
            "text/plain": [
              "<Figure size 432x288 with 1 Axes>"
            ],
            "image/png": "[encoded data removed]"
          },
          "metadata": {
            "needs_background": "light"
          }
        }
      ]
    },
    {
      "cell_type": "code",
      "source": [
        "# 2nd Model predictions:\n",
        "\n",
        "test_pred2 = np.rint(sm2.predict(X_test_processed))\n",
        "\n",
        "# 2nd Model Classification Report\n",
        "\n",
        "print(classification_report(y_test, test_pred2))\n",
        "\n",
        "# 2nd Model Confusion Matrix:\n",
        "\n",
        "labels = ['Normal', 'Heart Disease']\n",
        "\n",
        "cm2 = confusion_matrix(y_test, test_pred2)\n",
        "\n",
        "fig, axes = plt.subplots(1, 1, figsize=(6,6), dpi=100);\n",
        "sns.heatmap(cm2, cmap=\"viridis\", ax=axes,\n",
        "            xticklabels= labels, \n",
        "            yticklabels = labels , \n",
        "            annot=True);\n",
        "axes.set_title('Test Model II Confusion Matrix\\n');"
      ],
      "metadata": {
        "colab": {
          "base_uri": "https://localhost:8080/",
          "height": 712
        },
        "id": "FGAQ9O3Lalh6",
        "outputId": "9215f7b5-3024-4864-a452-5013993e97e4"
      },
      "execution_count": null,
      "outputs": [
        {
          "output_type": "stream",
          "name": "stdout",
          "text": [
            "              precision    recall  f1-score   support\n",
            "\n",
            "           0       0.89      0.86      0.88        98\n",
            "           1       0.85      0.89      0.87        89\n",
            "\n",
            "    accuracy                           0.87       187\n",
            "   macro avg       0.87      0.87      0.87       187\n",
            "weighted avg       0.87      0.87      0.87       187\n",
            "\n"
          ]
        },
        {
          "output_type": "display_data",
          "data": {
            "text/plain": [
              "<Figure size 600x600 with 2 Axes>"
            ],
            "image/png": "[encoded data removed]"
          },
          "metadata": {
            "needs_background": "light"
          }
        }
      ]
    },
    {
      "cell_type": "markdown",
      "source": [
        "##**Model II Results:**\n",
        "\n",
        "True Positives: 84\n",
        "\n",
        "True Negatives: 79\n",
        "\n",
        "False Positives: 14\n",
        "\n",
        "False Negatives: 10"
      ],
      "metadata": {
        "id": "BrB7P1-witFi"
      }
    },
    {
      "cell_type": "code",
      "source": [
        "# Version III: \n",
        "\n",
        "inputshape = X_train_processed.shape[1]\n",
        "inputshape\n",
        "\n",
        "# Model instantiation:\n",
        "sm3 = Sequential()\n",
        "\n",
        "# First hidden layer: \n",
        "sm3.add(Dense(11, activation = 'relu', input_dim = inputshape))\n",
        "\n",
        "# Second:\n",
        "sm3.add(Dense(9, activation = 'relu'))\n",
        "\n",
        "# Third:\n",
        "sm3.add(Dense(6, activation = 'relu'))\n",
        "\n",
        "# Fourth:\n",
        "sm3.add(Dense(3, activation = 'relu'))\n",
        "\n",
        "# Output layer:\n",
        "sm3.add(Dense(1, activation = 'sigmoid'))\n",
        "\n",
        "# Network Summary:\n",
        "sm3.summary()\n",
        "\n",
        "# Accuracy used as evaluation metric:\n",
        "sm3.compile(optimizer = 'adam', loss = 'binary_crossentropy', metrics = ['accuracy'])"
      ],
      "metadata": {
        "colab": {
          "base_uri": "https://localhost:8080/"
        },
        "id": "4kAKXu5AZDKF",
        "outputId": "fd36fb1e-59be-4f3f-ae20-b2b239fcb578"
      },
      "execution_count": null,
      "outputs": [
        {
          "output_type": "stream",
          "name": "stdout",
          "text": [
            "Model: \"sequential_4\"\n",
            "_________________________________________________________________\n",
            " Layer (type)                Output Shape              Param #   \n",
            "=================================================================\n",
            " dense_15 (Dense)            (None, 11)                231       \n",
            "                                                                 \n",
            " dense_16 (Dense)            (None, 9)                 108       \n",
            "                                                                 \n",
            " dense_17 (Dense)            (None, 6)                 60        \n",
            "                                                                 \n",
            " dense_18 (Dense)            (None, 3)                 21        \n",
            "                                                                 \n",
            " dense_19 (Dense)            (None, 1)                 4         \n",
            "                                                                 \n",
            "=================================================================\n",
            "Total params: 424\n",
            "Trainable params: 424\n",
            "Non-trainable params: 0\n",
            "_________________________________________________________________\n"
          ]
        }
      ]
    },
    {
      "cell_type": "code",
      "source": [
        "# Third Model fit:\n",
        "\n",
        "history3 = sm3.fit(X_train_processed, y_train, \n",
        "                 validation_data = (X_test_processed, y_test),\n",
        "                 epochs = 200,\n",
        "                 verbose = 0)"
      ],
      "metadata": {
        "id": "ssdSKHE_Z6SY"
      },
      "execution_count": null,
      "outputs": []
    },
    {
      "cell_type": "code",
      "source": [
        "# Plot history for model 3:\n",
        "\n",
        "plot_history(history2)"
      ],
      "metadata": {
        "colab": {
          "base_uri": "https://localhost:8080/",
          "height": 545
        },
        "id": "_MpXfR1YaDr5",
        "outputId": "806c2350-31a1-4218-c271-a818efbf52d9"
      },
      "execution_count": null,
      "outputs": [
        {
          "output_type": "display_data",
          "data": {
            "text/plain": [
              "<Figure size 432x288 with 1 Axes>"
            ],
            "image/png": "[encoded data removed]"
          },
          "metadata": {
            "needs_background": "light"
          }
        },
        {
          "output_type": "display_data",
          "data": {
            "text/plain": [
              "<Figure size 432x288 with 1 Axes>"
            ],
            "image/png": "[encoded data removed]"
          },
          "metadata": {
            "needs_background": "light"
          }
        }
      ]
    },
    {
      "cell_type": "code",
      "source": [
        "# 3rd Model predictions:\n",
        "\n",
        "test_pred3 = np.rint(sm3.predict(X_test_processed))\n",
        "\n",
        "# 3rd Model Classification Report\n",
        "\n",
        "print(classification_report(y_test, test_pred3))\n",
        "\n",
        "# 3rd Model Confusion Matrix:\n",
        "\n",
        "labels = ['Normal', 'Heart Disease']\n",
        "\n",
        "cm3 = confusion_matrix(y_test, test_pred3)\n",
        "\n",
        "fig, axes = plt.subplots(1, 1, figsize=(6,6), dpi=100);\n",
        "sns.heatmap(cm2, cmap='rocket_r', ax=axes,\n",
        "            xticklabels= labels, \n",
        "            yticklabels = labels , \n",
        "            annot=True);\n",
        "axes.set_title('Test Model Confusion Matrix\\n');"
      ],
      "metadata": {
        "colab": {
          "base_uri": "https://localhost:8080/",
          "height": 712
        },
        "id": "Jlc8cfF9b5oy",
        "outputId": "3f04340e-b8e0-43c7-fc7a-17ef6f606dd3"
      },
      "execution_count": null,
      "outputs": [
        {
          "output_type": "stream",
          "name": "stdout",
          "text": [
            "              precision    recall  f1-score   support\n",
            "\n",
            "           0       0.87      0.90      0.88        98\n",
            "           1       0.88      0.85      0.87        89\n",
            "\n",
            "    accuracy                           0.88       187\n",
            "   macro avg       0.88      0.88      0.88       187\n",
            "weighted avg       0.88      0.88      0.88       187\n",
            "\n"
          ]
        },
        {
          "output_type": "display_data",
          "data": {
            "text/plain": [
              "<Figure size 600x600 with 2 Axes>"
            ],
            "image/png": "[encoded data removed]"
          },
          "metadata": {
            "needs_background": "light"
          }
        }
      ]
    },
    {
      "cell_type": "markdown",
      "source": [
        "##**Model III Results:**\n",
        "\n",
        "True Positives: 82\n",
        "\n",
        "True Negatives: 78\n",
        "\n",
        "False Positives: 16\n",
        "\n",
        "False Negatives: 11"
      ],
      "metadata": {
        "id": "7uxdtRwmi6NA"
      }
    },
    {
      "cell_type": "code",
      "source": [
        ""
      ],
      "metadata": {
        "id": "J3qZBRcLjq5b"
      },
      "execution_count": null,
      "outputs": []
    },
    {
      "cell_type": "markdown",
      "source": [
        "### **Model I Report**\n",
        "\n",
        "                precision    recall  f1-score   support\n",
        "\n",
        "           0       0.88      0.84      0.86        98\n",
        "           1       0.83      0.88      0.85        89\n",
        "\n",
        "    accuracy                           0.86       187\n",
        "   macro avg       0.86      0.86      0.86       187\n",
        "weighted avg       0.86      0.86      0.86       187"
      ],
      "metadata": {
        "id": "qTDGo7L_ju35"
      }
    },
    {
      "cell_type": "markdown",
      "source": [
        "### **Model II Report**\n",
        "\n",
        "                 precision    recall  f1-score   support\n",
        "\n",
        "           0       0.89      0.86      0.88        98\n",
        "           1       0.85      0.89      0.87        89\n",
        "\n",
        "    accuracy                           0.87       187\n",
        "   macro avg       0.87      0.87      0.87       187\n",
        "weighted avg       0.87      0.87      0.87       187"
      ],
      "metadata": {
        "id": "xWKMjjUAkCOM"
      }
    },
    {
      "cell_type": "markdown",
      "source": [
        "### **Model III Report**\n",
        "\n",
        "                precision    recall  f1-score   support\n",
        "\n",
        "           0       0.90      0.85      0.87        98\n",
        "           1       0.84      0.90      0.87        89\n",
        "\n",
        "    accuracy                           0.87       187\n",
        "   macro avg       0.87      0.87      0.87       187\n",
        "weighted avg       0.87      0.87      0.87       187"
      ],
      "metadata": {
        "id": "1adFNujFkQ_d"
      }
    },
    {
      "cell_type": "markdown",
      "source": [
        "## **EVALUATION:** \n",
        "\n",
        "The biggest improvement was from model I to model II. The number of layers was increased from 2 to three and the epochs were increased from 100 to 120. The changes improved the precision, recall, and f1 score. THe higher recall score is important because it represents a reduction in false negatives which are signifciant in matters regarding chronic conditions/diseases. "
      ],
      "metadata": {
        "id": "eKTeCJLqkeGR"
      }
    }
  ]
}