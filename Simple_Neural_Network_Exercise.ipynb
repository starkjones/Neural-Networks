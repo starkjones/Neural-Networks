{
  "nbformat": 4,
  "nbformat_minor": 0,
  "metadata": {
    "colab": {
      "name": "Simple Neural Network Exercise.ipynb",
      "provenance": [],
      "collapsed_sections": [],
      "authorship_tag": "ABX9TyMqdOpb669LFuh1N0Qv0pzR",
      "include_colab_link": true
    },
    "kernelspec": {
      "name": "python3",
      "display_name": "Python 3"
    },
    "language_info": {
      "name": "python"
    }
  },
  "cells": [
    {
      "cell_type": "markdown",
      "metadata": {
        "id": "view-in-github",
        "colab_type": "text"
      },
      "source": [
        "<a href=\"https://colab.research.google.com/github/starkjones/Nueral-Networks/blob/main/Simple_Neural_Network_Exercise.ipynb\" target=\"_parent\"><img src=\"https://colab.research.google.com/assets/colab-badge.svg\" alt=\"Open In Colab\"/></a>"
      ]
    },
    {
      "cell_type": "markdown",
      "source": [
        "# **Simple Neural Network Exercise**\n",
        "Jonathan Jones\n",
        "\n",
        "22.06.07"
      ],
      "metadata": {
        "id": "N_fDGVhTZFtZ"
      }
    },
    {
      "cell_type": "markdown",
      "source": [
        "## **Data Dictionary**\n",
        "\n",
        "1. Age: age of the patient [years]\n",
        "\n",
        "2. Sex: sex of the patient [M: Male, F: Female]\n",
        "\n",
        "3. ChestPainType: chest pain type [TA: Typical Angina, ATA: Atypical Angina, NAP: \n",
        "Non-Anginal Pain, ASY: Asymptomatic]\n",
        "\n",
        "4. RestingBP: resting blood pressure [mm Hg]\n",
        "\n",
        "5. Cholesterol: serum cholesterol [mm/dl]\n",
        "\n",
        "6. FastingBS: fasting blood sugar [1: if FastingBS > 120 mg/dl, 0: otherwise]\n",
        "\n",
        "7. RestingECG: resting electrocardiogram results [Normal: Normal, ST: having ST-T wave abnormality (T wave inversions and/or ST elevation or depression of > 0.05 mV), LVH: showing probable or definite left ventricular hypertrophy by Estes' criteria]\n",
        "\n",
        "8. MaxHR: maximum heart rate achieved [Numeric value between 60 and 202]\n",
        "\n",
        "9. ExerciseAngina: exercise-induced angina [Y: Yes, N: No]\n",
        "\n",
        "10. Oldpeak: oldpeak = ST [Numeric value measured in depression]\n",
        "\n",
        "11. ST_Slope: the slope of the peak exercise ST segment [Up: upsloping, Flat: flat, Down: downsloping]\n",
        "\n",
        "12. HeartDisease: output class [1: heart disease, 0: Normal]"
      ],
      "metadata": {
        "id": "BTqDMaM4Z1aO"
      }
    },
    {
      "cell_type": "code",
      "execution_count": 4,
      "metadata": {
        "colab": {
          "base_uri": "https://localhost:8080/"
        },
        "id": "I5AP4FvmZBWm",
        "outputId": "023cf494-044f-4653-e6f2-16f065bd87c3"
      },
      "outputs": [
        {
          "output_type": "stream",
          "name": "stdout",
          "text": [
            "Drive already mounted at /content/drive; to attempt to forcibly remount, call drive.mount(\"/content/drive\", force_remount=True).\n"
          ]
        }
      ],
      "source": [
        "from google.colab import drive\n",
        "drive.mount('/content/drive')"
      ]
    },
    {
      "cell_type": "code",
      "source": [
        "# Import Libraries:\n",
        "\n",
        "import numpy as np\n",
        "import pandas as pd\n",
        "import matplotlib.pyplot as plt\n",
        "from sklearn.preprocessing import StandardScaler, OneHotEncoder\n",
        "from sklearn.model_selection import train_test_split\n",
        "from tensorflow.keras.models import Sequential\n",
        "from tensorflow.keras.layers import Dense"
      ],
      "metadata": {
        "id": "cDlKA-cAb22U"
      },
      "execution_count": 16,
      "outputs": []
    },
    {
      "cell_type": "markdown",
      "source": [
        "1. Explore and clean the data if needed"
      ],
      "metadata": {
        "id": "4iVnM2cMaRSA"
      }
    },
    {
      "cell_type": "code",
      "source": [
        "# Import Data:\n",
        "data = '/content/drive/MyDrive/Colab Notebooks/Week 11/heart - heart.csv'\n",
        "\n",
        "df = pd.read_csv(data)\n",
        "\n",
        "df.head()"
      ],
      "metadata": {
        "colab": {
          "base_uri": "https://localhost:8080/",
          "height": 206
        },
        "id": "AKho_THkZrDp",
        "outputId": "b72f318e-9c36-4b96-cf08-95df6a23af9f"
      },
      "execution_count": 5,
      "outputs": [
        {
          "output_type": "execute_result",
          "data": {
            "text/plain": [
              "   Age Sex ChestPainType  RestingBP  Cholesterol  FastingBS RestingECG  MaxHR  \\\n",
              "0   40   M           ATA        140          289          0     Normal    172   \n",
              "1   49   F           NAP        160          180          0     Normal    156   \n",
              "2   37   M           ATA        130          283          0         ST     98   \n",
              "3   48   F           ASY        138          214          0     Normal    108   \n",
              "4   54   M           NAP        150          195          0     Normal    122   \n",
              "\n",
              "  ExerciseAngina  Oldpeak ST_Slope  HeartDisease  \n",
              "0              N      0.0       Up             0  \n",
              "1              N      1.0     Flat             1  \n",
              "2              N      0.0       Up             0  \n",
              "3              Y      1.5     Flat             1  \n",
              "4              N      0.0       Up             0  "
            ],
            "text/html": [
              "\n",
              "  <div id=\"df-667bb98b-62f0-4354-a029-7a40f0919d7c\">\n",
              "    <div class=\"colab-df-container\">\n",
              "      <div>\n",
              "<style scoped>\n",
              "    .dataframe tbody tr th:only-of-type {\n",
              "        vertical-align: middle;\n",
              "    }\n",
              "\n",
              "    .dataframe tbody tr th {\n",
              "        vertical-align: top;\n",
              "    }\n",
              "\n",
              "    .dataframe thead th {\n",
              "        text-align: right;\n",
              "    }\n",
              "</style>\n",
              "<table border=\"1\" class=\"dataframe\">\n",
              "  <thead>\n",
              "    <tr style=\"text-align: right;\">\n",
              "      <th></th>\n",
              "      <th>Age</th>\n",
              "      <th>Sex</th>\n",
              "      <th>ChestPainType</th>\n",
              "      <th>RestingBP</th>\n",
              "      <th>Cholesterol</th>\n",
              "      <th>FastingBS</th>\n",
              "      <th>RestingECG</th>\n",
              "      <th>MaxHR</th>\n",
              "      <th>ExerciseAngina</th>\n",
              "      <th>Oldpeak</th>\n",
              "      <th>ST_Slope</th>\n",
              "      <th>HeartDisease</th>\n",
              "    </tr>\n",
              "  </thead>\n",
              "  <tbody>\n",
              "    <tr>\n",
              "      <th>0</th>\n",
              "      <td>40</td>\n",
              "      <td>M</td>\n",
              "      <td>ATA</td>\n",
              "      <td>140</td>\n",
              "      <td>289</td>\n",
              "      <td>0</td>\n",
              "      <td>Normal</td>\n",
              "      <td>172</td>\n",
              "      <td>N</td>\n",
              "      <td>0.0</td>\n",
              "      <td>Up</td>\n",
              "      <td>0</td>\n",
              "    </tr>\n",
              "    <tr>\n",
              "      <th>1</th>\n",
              "      <td>49</td>\n",
              "      <td>F</td>\n",
              "      <td>NAP</td>\n",
              "      <td>160</td>\n",
              "      <td>180</td>\n",
              "      <td>0</td>\n",
              "      <td>Normal</td>\n",
              "      <td>156</td>\n",
              "      <td>N</td>\n",
              "      <td>1.0</td>\n",
              "      <td>Flat</td>\n",
              "      <td>1</td>\n",
              "    </tr>\n",
              "    <tr>\n",
              "      <th>2</th>\n",
              "      <td>37</td>\n",
              "      <td>M</td>\n",
              "      <td>ATA</td>\n",
              "      <td>130</td>\n",
              "      <td>283</td>\n",
              "      <td>0</td>\n",
              "      <td>ST</td>\n",
              "      <td>98</td>\n",
              "      <td>N</td>\n",
              "      <td>0.0</td>\n",
              "      <td>Up</td>\n",
              "      <td>0</td>\n",
              "    </tr>\n",
              "    <tr>\n",
              "      <th>3</th>\n",
              "      <td>48</td>\n",
              "      <td>F</td>\n",
              "      <td>ASY</td>\n",
              "      <td>138</td>\n",
              "      <td>214</td>\n",
              "      <td>0</td>\n",
              "      <td>Normal</td>\n",
              "      <td>108</td>\n",
              "      <td>Y</td>\n",
              "      <td>1.5</td>\n",
              "      <td>Flat</td>\n",
              "      <td>1</td>\n",
              "    </tr>\n",
              "    <tr>\n",
              "      <th>4</th>\n",
              "      <td>54</td>\n",
              "      <td>M</td>\n",
              "      <td>NAP</td>\n",
              "      <td>150</td>\n",
              "      <td>195</td>\n",
              "      <td>0</td>\n",
              "      <td>Normal</td>\n",
              "      <td>122</td>\n",
              "      <td>N</td>\n",
              "      <td>0.0</td>\n",
              "      <td>Up</td>\n",
              "      <td>0</td>\n",
              "    </tr>\n",
              "  </tbody>\n",
              "</table>\n",
              "</div>\n",
              "      <button class=\"colab-df-convert\" onclick=\"convertToInteractive('df-667bb98b-62f0-4354-a029-7a40f0919d7c')\"\n",
              "              title=\"Convert this dataframe to an interactive table.\"\n",
              "              style=\"display:none;\">\n",
              "        \n",
              "  <svg xmlns=\"http://www.w3.org/2000/svg\" height=\"24px\"viewBox=\"0 0 24 24\"\n",
              "       width=\"24px\">\n",
              "    <path d=\"M0 0h24v24H0V0z\" fill=\"none\"/>\n",
              "    <path d=\"M18.56 5.44l.94 2.06.94-2.06 2.06-.94-2.06-.94-.94-2.06-.94 2.06-2.06.94zm-11 1L8.5 8.5l.94-2.06 2.06-.94-2.06-.94L8.5 2.5l-.94 2.06-2.06.94zm10 10l.94 2.06.94-2.06 2.06-.94-2.06-.94-.94-2.06-.94 2.06-2.06.94z\"/><path d=\"M17.41 7.96l-1.37-1.37c-.4-.4-.92-.59-1.43-.59-.52 0-1.04.2-1.43.59L10.3 9.45l-7.72 7.72c-.78.78-.78 2.05 0 2.83L4 21.41c.39.39.9.59 1.41.59.51 0 1.02-.2 1.41-.59l7.78-7.78 2.81-2.81c.8-.78.8-2.07 0-2.86zM5.41 20L4 18.59l7.72-7.72 1.47 1.35L5.41 20z\"/>\n",
              "  </svg>\n",
              "      </button>\n",
              "      \n",
              "  <style>\n",
              "    .colab-df-container {\n",
              "      display:flex;\n",
              "      flex-wrap:wrap;\n",
              "      gap: 12px;\n",
              "    }\n",
              "\n",
              "    .colab-df-convert {\n",
              "      background-color: #E8F0FE;\n",
              "      border: none;\n",
              "      border-radius: 50%;\n",
              "      cursor: pointer;\n",
              "      display: none;\n",
              "      fill: #1967D2;\n",
              "      height: 32px;\n",
              "      padding: 0 0 0 0;\n",
              "      width: 32px;\n",
              "    }\n",
              "\n",
              "    .colab-df-convert:hover {\n",
              "      background-color: #E2EBFA;\n",
              "      box-shadow: 0px 1px 2px rgba(60, 64, 67, 0.3), 0px 1px 3px 1px rgba(60, 64, 67, 0.15);\n",
              "      fill: #174EA6;\n",
              "    }\n",
              "\n",
              "    [theme=dark] .colab-df-convert {\n",
              "      background-color: #3B4455;\n",
              "      fill: #D2E3FC;\n",
              "    }\n",
              "\n",
              "    [theme=dark] .colab-df-convert:hover {\n",
              "      background-color: #434B5C;\n",
              "      box-shadow: 0px 1px 3px 1px rgba(0, 0, 0, 0.15);\n",
              "      filter: drop-shadow(0px 1px 2px rgba(0, 0, 0, 0.3));\n",
              "      fill: #FFFFFF;\n",
              "    }\n",
              "  </style>\n",
              "\n",
              "      <script>\n",
              "        const buttonEl =\n",
              "          document.querySelector('#df-667bb98b-62f0-4354-a029-7a40f0919d7c button.colab-df-convert');\n",
              "        buttonEl.style.display =\n",
              "          google.colab.kernel.accessAllowed ? 'block' : 'none';\n",
              "\n",
              "        async function convertToInteractive(key) {\n",
              "          const element = document.querySelector('#df-667bb98b-62f0-4354-a029-7a40f0919d7c');\n",
              "          const dataTable =\n",
              "            await google.colab.kernel.invokeFunction('convertToInteractive',\n",
              "                                                     [key], {});\n",
              "          if (!dataTable) return;\n",
              "\n",
              "          const docLinkHtml = 'Like what you see? Visit the ' +\n",
              "            '<a target=\"_blank\" href=https://colab.research.google.com/notebooks/data_table.ipynb>data table notebook</a>'\n",
              "            + ' to learn more about interactive tables.';\n",
              "          element.innerHTML = '';\n",
              "          dataTable['output_type'] = 'display_data';\n",
              "          await google.colab.output.renderOutput(dataTable, element);\n",
              "          const docLink = document.createElement('div');\n",
              "          docLink.innerHTML = docLinkHtml;\n",
              "          element.appendChild(docLink);\n",
              "        }\n",
              "      </script>\n",
              "    </div>\n",
              "  </div>\n",
              "  "
            ]
          },
          "metadata": {},
          "execution_count": 5
        }
      ]
    },
    {
      "cell_type": "code",
      "source": [
        "# convert column names to lower case:\n",
        "\n",
        "df.columns = df.columns.str.lower()"
      ],
      "metadata": {
        "id": "nsqGn6bidVhU"
      },
      "execution_count": 8,
      "outputs": []
    },
    {
      "cell_type": "code",
      "source": [
        "# Duplicated rows:\n",
        "\n",
        "df.duplicated().sum()"
      ],
      "metadata": {
        "colab": {
          "base_uri": "https://localhost:8080/"
        },
        "id": "77owRUphdolN",
        "outputId": "038d4dd5-7561-434d-fbce-46e367a9c348"
      },
      "execution_count": 10,
      "outputs": [
        {
          "output_type": "execute_result",
          "data": {
            "text/plain": [
              "0"
            ]
          },
          "metadata": {},
          "execution_count": 10
        }
      ]
    },
    {
      "cell_type": "code",
      "source": [
        "# Missing values:\n",
        "\n",
        "df.isna().sum()"
      ],
      "metadata": {
        "colab": {
          "base_uri": "https://localhost:8080/"
        },
        "id": "Cc9znWbMdvP2",
        "outputId": "40317be6-5975-48a9-9a47-542254424357"
      },
      "execution_count": 11,
      "outputs": [
        {
          "output_type": "execute_result",
          "data": {
            "text/plain": [
              "age               0\n",
              "sex               0\n",
              "chestpaintype     0\n",
              "restingbp         0\n",
              "cholesterol       0\n",
              "fastingbs         0\n",
              "restingecg        0\n",
              "maxhr             0\n",
              "exerciseangina    0\n",
              "oldpeak           0\n",
              "st_slope          0\n",
              "heartdisease      0\n",
              "dtype: int64"
            ]
          },
          "metadata": {},
          "execution_count": 11
        }
      ]
    },
    {
      "cell_type": "code",
      "source": [
        "# Datatypes and dictionary conformity: \n",
        "\n",
        "df.info()"
      ],
      "metadata": {
        "colab": {
          "base_uri": "https://localhost:8080/"
        },
        "id": "Zy9M4A-td1SL",
        "outputId": "2813bb40-bc46-432b-b5d0-e6708d4c62a3"
      },
      "execution_count": 12,
      "outputs": [
        {
          "output_type": "stream",
          "name": "stdout",
          "text": [
            "<class 'pandas.core.frame.DataFrame'>\n",
            "RangeIndex: 918 entries, 0 to 917\n",
            "Data columns (total 12 columns):\n",
            " #   Column          Non-Null Count  Dtype  \n",
            "---  ------          --------------  -----  \n",
            " 0   age             918 non-null    int64  \n",
            " 1   sex             918 non-null    object \n",
            " 2   chestpaintype   918 non-null    object \n",
            " 3   restingbp       918 non-null    int64  \n",
            " 4   cholesterol     918 non-null    int64  \n",
            " 5   fastingbs       918 non-null    int64  \n",
            " 6   restingecg      918 non-null    object \n",
            " 7   maxhr           918 non-null    int64  \n",
            " 8   exerciseangina  918 non-null    object \n",
            " 9   oldpeak         918 non-null    float64\n",
            " 10  st_slope        918 non-null    object \n",
            " 11  heartdisease    918 non-null    int64  \n",
            "dtypes: float64(1), int64(6), object(5)\n",
            "memory usage: 86.2+ KB\n"
          ]
        }
      ]
    },
    {
      "cell_type": "code",
      "source": [
        "# Check numerical data for inconsistencies:\n",
        "\n",
        "df.describe().round(2)"
      ],
      "metadata": {
        "colab": {
          "base_uri": "https://localhost:8080/",
          "height": 300
        },
        "id": "YBYGs_viip0i",
        "outputId": "b3a4a9d0-abda-45f7-9e96-c5628d40231d"
      },
      "execution_count": 14,
      "outputs": [
        {
          "output_type": "execute_result",
          "data": {
            "text/plain": [
              "          age  restingbp  cholesterol  fastingbs   maxhr  oldpeak  \\\n",
              "count  918.00     918.00       918.00     918.00  918.00   918.00   \n",
              "mean    53.51     132.40       198.80       0.23  136.81     0.89   \n",
              "std      9.43      18.51       109.38       0.42   25.46     1.07   \n",
              "min     28.00       0.00         0.00       0.00   60.00    -2.60   \n",
              "25%     47.00     120.00       173.25       0.00  120.00     0.00   \n",
              "50%     54.00     130.00       223.00       0.00  138.00     0.60   \n",
              "75%     60.00     140.00       267.00       0.00  156.00     1.50   \n",
              "max     77.00     200.00       603.00       1.00  202.00     6.20   \n",
              "\n",
              "       heartdisease  \n",
              "count        918.00  \n",
              "mean           0.55  \n",
              "std            0.50  \n",
              "min            0.00  \n",
              "25%            0.00  \n",
              "50%            1.00  \n",
              "75%            1.00  \n",
              "max            1.00  "
            ],
            "text/html": [
              "\n",
              "  <div id=\"df-3de1567e-0cbf-46db-b8dd-6728b2d3a80e\">\n",
              "    <div class=\"colab-df-container\">\n",
              "      <div>\n",
              "<style scoped>\n",
              "    .dataframe tbody tr th:only-of-type {\n",
              "        vertical-align: middle;\n",
              "    }\n",
              "\n",
              "    .dataframe tbody tr th {\n",
              "        vertical-align: top;\n",
              "    }\n",
              "\n",
              "    .dataframe thead th {\n",
              "        text-align: right;\n",
              "    }\n",
              "</style>\n",
              "<table border=\"1\" class=\"dataframe\">\n",
              "  <thead>\n",
              "    <tr style=\"text-align: right;\">\n",
              "      <th></th>\n",
              "      <th>age</th>\n",
              "      <th>restingbp</th>\n",
              "      <th>cholesterol</th>\n",
              "      <th>fastingbs</th>\n",
              "      <th>maxhr</th>\n",
              "      <th>oldpeak</th>\n",
              "      <th>heartdisease</th>\n",
              "    </tr>\n",
              "  </thead>\n",
              "  <tbody>\n",
              "    <tr>\n",
              "      <th>count</th>\n",
              "      <td>918.00</td>\n",
              "      <td>918.00</td>\n",
              "      <td>918.00</td>\n",
              "      <td>918.00</td>\n",
              "      <td>918.00</td>\n",
              "      <td>918.00</td>\n",
              "      <td>918.00</td>\n",
              "    </tr>\n",
              "    <tr>\n",
              "      <th>mean</th>\n",
              "      <td>53.51</td>\n",
              "      <td>132.40</td>\n",
              "      <td>198.80</td>\n",
              "      <td>0.23</td>\n",
              "      <td>136.81</td>\n",
              "      <td>0.89</td>\n",
              "      <td>0.55</td>\n",
              "    </tr>\n",
              "    <tr>\n",
              "      <th>std</th>\n",
              "      <td>9.43</td>\n",
              "      <td>18.51</td>\n",
              "      <td>109.38</td>\n",
              "      <td>0.42</td>\n",
              "      <td>25.46</td>\n",
              "      <td>1.07</td>\n",
              "      <td>0.50</td>\n",
              "    </tr>\n",
              "    <tr>\n",
              "      <th>min</th>\n",
              "      <td>28.00</td>\n",
              "      <td>0.00</td>\n",
              "      <td>0.00</td>\n",
              "      <td>0.00</td>\n",
              "      <td>60.00</td>\n",
              "      <td>-2.60</td>\n",
              "      <td>0.00</td>\n",
              "    </tr>\n",
              "    <tr>\n",
              "      <th>25%</th>\n",
              "      <td>47.00</td>\n",
              "      <td>120.00</td>\n",
              "      <td>173.25</td>\n",
              "      <td>0.00</td>\n",
              "      <td>120.00</td>\n",
              "      <td>0.00</td>\n",
              "      <td>0.00</td>\n",
              "    </tr>\n",
              "    <tr>\n",
              "      <th>50%</th>\n",
              "      <td>54.00</td>\n",
              "      <td>130.00</td>\n",
              "      <td>223.00</td>\n",
              "      <td>0.00</td>\n",
              "      <td>138.00</td>\n",
              "      <td>0.60</td>\n",
              "      <td>1.00</td>\n",
              "    </tr>\n",
              "    <tr>\n",
              "      <th>75%</th>\n",
              "      <td>60.00</td>\n",
              "      <td>140.00</td>\n",
              "      <td>267.00</td>\n",
              "      <td>0.00</td>\n",
              "      <td>156.00</td>\n",
              "      <td>1.50</td>\n",
              "      <td>1.00</td>\n",
              "    </tr>\n",
              "    <tr>\n",
              "      <th>max</th>\n",
              "      <td>77.00</td>\n",
              "      <td>200.00</td>\n",
              "      <td>603.00</td>\n",
              "      <td>1.00</td>\n",
              "      <td>202.00</td>\n",
              "      <td>6.20</td>\n",
              "      <td>1.00</td>\n",
              "    </tr>\n",
              "  </tbody>\n",
              "</table>\n",
              "</div>\n",
              "      <button class=\"colab-df-convert\" onclick=\"convertToInteractive('df-3de1567e-0cbf-46db-b8dd-6728b2d3a80e')\"\n",
              "              title=\"Convert this dataframe to an interactive table.\"\n",
              "              style=\"display:none;\">\n",
              "        \n",
              "  <svg xmlns=\"http://www.w3.org/2000/svg\" height=\"24px\"viewBox=\"0 0 24 24\"\n",
              "       width=\"24px\">\n",
              "    <path d=\"M0 0h24v24H0V0z\" fill=\"none\"/>\n",
              "    <path d=\"M18.56 5.44l.94 2.06.94-2.06 2.06-.94-2.06-.94-.94-2.06-.94 2.06-2.06.94zm-11 1L8.5 8.5l.94-2.06 2.06-.94-2.06-.94L8.5 2.5l-.94 2.06-2.06.94zm10 10l.94 2.06.94-2.06 2.06-.94-2.06-.94-.94-2.06-.94 2.06-2.06.94z\"/><path d=\"M17.41 7.96l-1.37-1.37c-.4-.4-.92-.59-1.43-.59-.52 0-1.04.2-1.43.59L10.3 9.45l-7.72 7.72c-.78.78-.78 2.05 0 2.83L4 21.41c.39.39.9.59 1.41.59.51 0 1.02-.2 1.41-.59l7.78-7.78 2.81-2.81c.8-.78.8-2.07 0-2.86zM5.41 20L4 18.59l7.72-7.72 1.47 1.35L5.41 20z\"/>\n",
              "  </svg>\n",
              "      </button>\n",
              "      \n",
              "  <style>\n",
              "    .colab-df-container {\n",
              "      display:flex;\n",
              "      flex-wrap:wrap;\n",
              "      gap: 12px;\n",
              "    }\n",
              "\n",
              "    .colab-df-convert {\n",
              "      background-color: #E8F0FE;\n",
              "      border: none;\n",
              "      border-radius: 50%;\n",
              "      cursor: pointer;\n",
              "      display: none;\n",
              "      fill: #1967D2;\n",
              "      height: 32px;\n",
              "      padding: 0 0 0 0;\n",
              "      width: 32px;\n",
              "    }\n",
              "\n",
              "    .colab-df-convert:hover {\n",
              "      background-color: #E2EBFA;\n",
              "      box-shadow: 0px 1px 2px rgba(60, 64, 67, 0.3), 0px 1px 3px 1px rgba(60, 64, 67, 0.15);\n",
              "      fill: #174EA6;\n",
              "    }\n",
              "\n",
              "    [theme=dark] .colab-df-convert {\n",
              "      background-color: #3B4455;\n",
              "      fill: #D2E3FC;\n",
              "    }\n",
              "\n",
              "    [theme=dark] .colab-df-convert:hover {\n",
              "      background-color: #434B5C;\n",
              "      box-shadow: 0px 1px 3px 1px rgba(0, 0, 0, 0.15);\n",
              "      filter: drop-shadow(0px 1px 2px rgba(0, 0, 0, 0.3));\n",
              "      fill: #FFFFFF;\n",
              "    }\n",
              "  </style>\n",
              "\n",
              "      <script>\n",
              "        const buttonEl =\n",
              "          document.querySelector('#df-3de1567e-0cbf-46db-b8dd-6728b2d3a80e button.colab-df-convert');\n",
              "        buttonEl.style.display =\n",
              "          google.colab.kernel.accessAllowed ? 'block' : 'none';\n",
              "\n",
              "        async function convertToInteractive(key) {\n",
              "          const element = document.querySelector('#df-3de1567e-0cbf-46db-b8dd-6728b2d3a80e');\n",
              "          const dataTable =\n",
              "            await google.colab.kernel.invokeFunction('convertToInteractive',\n",
              "                                                     [key], {});\n",
              "          if (!dataTable) return;\n",
              "\n",
              "          const docLinkHtml = 'Like what you see? Visit the ' +\n",
              "            '<a target=\"_blank\" href=https://colab.research.google.com/notebooks/data_table.ipynb>data table notebook</a>'\n",
              "            + ' to learn more about interactive tables.';\n",
              "          element.innerHTML = '';\n",
              "          dataTable['output_type'] = 'display_data';\n",
              "          await google.colab.output.renderOutput(dataTable, element);\n",
              "          const docLink = document.createElement('div');\n",
              "          docLink.innerHTML = docLinkHtml;\n",
              "          element.appendChild(docLink);\n",
              "        }\n",
              "      </script>\n",
              "    </div>\n",
              "  </div>\n",
              "  "
            ]
          },
          "metadata": {},
          "execution_count": 14
        }
      ]
    },
    {
      "cell_type": "markdown",
      "source": [
        "2. Perform a train-test split on your data"
      ],
      "metadata": {
        "id": "9MOFp0yBaVL_"
      }
    },
    {
      "cell_type": "code",
      "source": [
        "# Feature selection:\n",
        "X = df.drop(columns = 'heartdisease')\n",
        "\n",
        "# Target:\n",
        "y = df['heartdisease']\n",
        "\n",
        "# Train test split: \n",
        "\n",
        "X_train, X_test, y_train, y_test = train_test_split(X, y, random_state = 3)"
      ],
      "metadata": {
        "id": "dG2w_BCyaYVf"
      },
      "execution_count": 15,
      "outputs": []
    },
    {
      "cell_type": "markdown",
      "source": [
        "3. Use a column transformer to scale the numeric features and one-hot encode the categorical features."
      ],
      "metadata": {
        "id": "Z2RQ2s7iaZnK"
      }
    },
    {
      "cell_type": "code",
      "source": [
        "# Scaler:\n",
        "scaler = StandardScaler()\n",
        "\n",
        "# One Hot Encoder:\n",
        "OHE = OneHotEncoder(sparse = False, handle_unknown= 'ignore')"
      ],
      "metadata": {
        "id": "l8Zcsz1Eadsd"
      },
      "execution_count": 17,
      "outputs": []
    },
    {
      "cell_type": "code",
      "source": [
        "from sklearn.pipeline import make_pipeline\n",
        "from pandas.core.arrays import categorical\n",
        "from sklearn.compose import make_column_selector, make_column_transformer\n",
        "\n",
        "# Column selection / separation by data type:\n",
        "\n",
        "cat = make_column_selector(dtype_include= 'object')\n",
        "num = make_column_selector(dtype_include= 'number')\n",
        "\n",
        "# Preprocessing tuples:\n",
        "\n",
        "categorical_tuple = (OHE, cat)\n",
        "numeric_tuple = (scaler, num)\n",
        "\n",
        "# Column transformer:\n",
        "\n",
        "preprocessor = make_column_transformer(numeric_tuple, categorical_tuple, remainder= 'passthrough')\n",
        "\n",
        "preprocessor\n"
      ],
      "metadata": {
        "colab": {
          "base_uri": "https://localhost:8080/"
        },
        "id": "7A8em-shknNH",
        "outputId": "a43d951d-a55c-45d2-b8ca-f6ae81c4857e"
      },
      "execution_count": 31,
      "outputs": [
        {
          "output_type": "execute_result",
          "data": {
            "text/plain": [
              "ColumnTransformer(remainder='passthrough',\n",
              "                  transformers=[('standardscaler', StandardScaler(),\n",
              "                                 <sklearn.compose._column_transformer.make_column_selector object at 0x7f1441cbb5d0>),\n",
              "                                ('onehotencoder',\n",
              "                                 OneHotEncoder(handle_unknown='ignore',\n",
              "                                               sparse=False),\n",
              "                                 <sklearn.compose._column_transformer.make_column_selector object at 0x7f1441cbb510>)])"
            ]
          },
          "metadata": {},
          "execution_count": 31
        }
      ]
    },
    {
      "cell_type": "code",
      "source": [
        "# # Piplines:\n",
        "\n",
        "# cat_pipe = make_pipeline(OHE)\n",
        "# num_pipe = make_pipeline(scaler)"
      ],
      "metadata": {
        "id": "iiX-EsYSpEWS"
      },
      "execution_count": null,
      "outputs": []
    },
    {
      "cell_type": "markdown",
      "source": [
        "4. Define your base sequential model"
      ],
      "metadata": {
        "id": "ZTXVp_9uaeFN"
      }
    },
    {
      "cell_type": "code",
      "source": [
        "shape = X_train.shape\n",
        "shape"
      ],
      "metadata": {
        "colab": {
          "base_uri": "https://localhost:8080/"
        },
        "id": "h_CDKDwwuBW2",
        "outputId": "9e687acf-4a79-4069-e4d0-507483dcb80e"
      },
      "execution_count": 38,
      "outputs": [
        {
          "output_type": "execute_result",
          "data": {
            "text/plain": [
              "(688, 11)"
            ]
          },
          "metadata": {},
          "execution_count": 38
        }
      ]
    },
    {
      "cell_type": "code",
      "source": [
        "# Model instantiation:\n",
        "\n",
        "sm = Sequential()\n",
        "\n",
        "# First hidden layer: \n",
        "sm.add(Dense(6, activation = 'relu', input_dim = X_train.shape[1]))\n",
        "\n",
        "# Second:\n",
        "sm.add(Dense(6, activation = 'relu'))\n",
        "\n",
        "# Final:\n",
        "sm.add(Dense(1, activation = 'sigmoid'))\n"
      ],
      "metadata": {
        "id": "hfTi4GCFahQr"
      },
      "execution_count": 39,
      "outputs": []
    },
    {
      "cell_type": "markdown",
      "source": [
        "5. Include the number of features of each sample in your input layer"
      ],
      "metadata": {
        "id": "mCmvcf2sah4r"
      }
    },
    {
      "cell_type": "code",
      "source": [
        ""
      ],
      "metadata": {
        "id": "LY7wevEPamm_"
      },
      "execution_count": null,
      "outputs": []
    },
    {
      "cell_type": "markdown",
      "source": [
        "6. Use the correct activation function and the correct number of neurons for your output layer"
      ],
      "metadata": {
        "id": "EXilIiqFam_9"
      }
    },
    {
      "cell_type": "code",
      "source": [
        ""
      ],
      "metadata": {
        "id": "wxmHnaDWarJf"
      },
      "execution_count": null,
      "outputs": []
    },
    {
      "cell_type": "markdown",
      "source": [
        "7. Compile your model with the correct loss function and an optimizer (‘adam’ is a fine choice)"
      ],
      "metadata": {
        "id": "j3AX-izyas_X"
      }
    },
    {
      "cell_type": "code",
      "source": [
        "# Accuracy used as evaluation metric\n",
        "\n",
        "sm.compile(optimizer = 'adam', loss = 'binary_crossentropy', metrics = ['acc'])"
      ],
      "metadata": {
        "id": "6kiHp6y4axYY"
      },
      "execution_count": 41,
      "outputs": []
    },
    {
      "cell_type": "markdown",
      "source": [
        "8. Plot your model’s training history."
      ],
      "metadata": {
        "id": "T2O_BGNTazLi"
      }
    },
    {
      "cell_type": "code",
      "source": [
        ""
      ],
      "metadata": {
        "id": "AFIVNS2Ua-4B"
      },
      "execution_count": null,
      "outputs": []
    },
    {
      "cell_type": "markdown",
      "source": [
        "9. Evaluate your models with appropriate metrics."
      ],
      "metadata": {
        "id": "Fbci4-jZa_ad"
      }
    },
    {
      "cell_type": "code",
      "source": [
        ""
      ],
      "metadata": {
        "id": "J3w2h4QmbEuK"
      },
      "execution_count": null,
      "outputs": []
    },
    {
      "cell_type": "markdown",
      "source": [
        "After you’ve created, fit, and evaluated your first model, try 2 more versions of it with different numbers of layers and neurons to see if you can create a model that scores better on the testing data."
      ],
      "metadata": {
        "id": "D2Dpe3jubG9-"
      }
    }
  ]
}